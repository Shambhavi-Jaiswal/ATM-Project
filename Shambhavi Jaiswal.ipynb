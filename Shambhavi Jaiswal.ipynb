

//DOCUMENTATION



ATM Machine Using Python Classes and Objects
This program simulates how the ATM (Automatic Teller Machine) of The XYZ Bank works. Therefore, the program does the following basic ATM requirements:

1. Account creation
2. Check Account Details
3. Check Balance
4. Deposit Amount
5. Withdraw Amount
6. Exit with a transaction receipt
Here, I have created one ATM Class which has following methods:

init: to create instance of an object
Account Details: to check details of account, it will ask for the pin and after verifying your pin, it will show your Account Details
Deposit: to deposit the money in account, it will ask for pin and after verifying your pin, it will add money to you Account
Withdraw: to debit the money from the account, it will ask for pin and after verifying you pin, it will let you withdraw the money from your Account
Check_Balance: it will ask for your pin and after checking your pin, it will display the details of your Account balance
Transaction: it will show you final details of Account after transaction is completed





//CODE


import random
import sys
 
class ATM():
    def __init__(self, name,account_number, pin, balance = 0):
        self.name = name
        
        self.account_number=account_number
        self.pin = pin
        self.balance = balance
        
    def account_detail(self):
        print("\n----------ACCOUNT DETAIL----------")
        print(f"Account Holder: {self.name.upper()}")
        print(f"Account Number: {self.account_number}")
        print(f"Available balance: Rs.{self.balance}\n")
         
    def deposit(self, amount):
        key = int(input(print("Enter Pin: ")))
        if(key == self.pin):
            self.amount = amount
            self.balance = self.balance + self.amount
            print("Current account balance: Rs.", self.balance)
            print()
        else:
            print("Wrong pin")
 
    def withdraw(self, amount):
        key = int(input(print("Enter Pin: ")))
        if(key == self.pin):
            self.amount = amount
            if self.amount > self.balance:
                print("Insufficient fund!")
                print(f"Your balance is Rs.{self.balance} only.")
                print("Try with lesser amount than balance.")
                print()
            else:
                self.balance = self.balance - self.amount
                print(f"Rs.{amount} withdrawal successful!")
                print("Current account balance: Rs.", self.balance)
                print()
        else:
            print("Wrong pin")
    
    def transfer(self, amount):
        key = int(input(print("Enter Pin: ")))
        if(key == self.pin):
            self.amount = amount
            if self.amount > self.balance:
                print("Insufficient fund!")
                print(f"Your balance is Rs.{self.balance} only.")
                print("Try with lesser amount than balance.")
                print()
            else:
                self.balance = self.balance - self.amount
                print(f"Rs.{amount} transfer successful!")
                print("Current account balance: Rs.", self.balance)
                print()
        else:
            print("Wrong pin")
​
    
    def check_balance(self):
        key = int(input(print("Enter Pin: ")))
        if(key == self.pin):
            print("Available balance: Rs.", self.balance)
            print()
        else:
            print("Wrong pin")
​
    def transaction(self):
        print("""
            TRANSACTION 
        *********************
            Menu:
            1. Account Detail
            2. Check Balance
            3. Deposit
            4. Withdraw
            5. Transfer
            6. Exit
        *********************
        """)
        temp=True
        while (temp):
            try:
                option = int(input("Enter 1, 2, 3, 4, 5 or 6:"))
            except:
                print("Error: Enter 1, 2, 3, 4, 5 or 6 only!\n")
                continue
            else:
                if option == 1:
                    atm.account_detail()
                elif option == 2:
                    atm.check_balance()
                elif option == 3:
                    amount = int(input("How much you want to deposit(Rs.):"))
                    atm.deposit(amount)
                elif option == 4:
                    amount = int(input("How much you want to withdraw(Rs.):"))
                    atm.withdraw(amount)
                elif option == 5:
                    amount = int(input("How much you want to transfer(Rs.):"))
                    atm.transfer(amount)
                elif option == 6:
                    print(f"""
                printing receipt..............
            ******************************************
                Transaction is now complete.                         
                Transaction number: {random.randint(10000, 1000000)} 
                Account holder: {self.name.upper()}                  
                Account number: {self.account_number}                
                Available balance: Rs.{self.balance}                    
​
                Thanks for choosing us as your bank                  
            ******************************************
                         """)
            temp2 = int(input("Proceed 1 for yes or 0 for No: "))
            if temp2==1:
                temp=True
            elif temp2==0:
                temp=False
            else:
                temp2 = int(input("Error! Proceed 1 for yes or 0 for No: "))
                
                
            
 
print("*******WELCOME TO XYZ BANK*******")
print("___________________________________________________________\n")
print("----------ACCOUNT CREATION----------")
name = input("Enter your name: ")
account_number=random.randint(10000000, 99999999)
print("Your account number is :", account_number )
pin = int(input("Set your PIN: "))
print("Congratulations! Account created successfully......\n")
 
atm = ATM(name, account_number, pin)
​
while True:
    trans = input("Do you want to do any transaction?(yes/no):")
    if trans == "yes":
        atm.transaction()
    elif trans == "no":
        print("""
        -------------------------------------
        | Thanks for choosing us as your bank |
        | Visit us again!                     |
         -------------------------------------
             """)
        
        break
    else:
        print("Wrong command!  Enter 'yes' for YES and 'no' for NO.\n")
        
        
        
        
        
        
        
//OUTPUT      
        
        
        
        
*******WELCOME TO XYZ BANK*******
___________________________________________________________

----------ACCOUNT CREATION----------
Enter your name: Shambhavi Jaiswal
Your account number is : 49990934
Set your PIN: 2830
Congratulations! Account created successfully......

Do you want to do any transaction?(yes/no):yes

            TRANSACTION 
        *********************
            Menu:
            1. Account Detail
            2. Check Balance
            3. Deposit
            4. Withdraw
            5. Transfer
            6. Exit
        *********************
        
Enter 1, 2, 3, 4, 5 or 6:3
How much you want to deposit(Rs.):100000
Enter Pin: 
None2830
Current account balance: Rs. 100000

Proceed 1 for yes or 0 for No: 1
Enter 1, 2, 3, 4, 5 or 6:4
How much you want to withdraw(Rs.):50000
Enter Pin: 
None2830
Rs.50000 withdrawal successful!
Current account balance: Rs. 50000

Proceed 1 for yes or 0 for No: 1
Enter 1, 2, 3, 4, 5 or 6:5
How much you want to transfer(Rs.):67000
Enter Pin: 
None2830
Insufficient fund!
Your balance is Rs.50000 only.
Try with lesser amount than balance.

Proceed 1 for yes or 0 for No: 1
Enter 1, 2, 3, 4, 5 or 6:5
How much you want to transfer(Rs.):30000
Enter Pin: 
None2830
Rs.30000 transfer successful!
Current account balance: Rs. 20000

Proceed 1 for yes or 0 for No: 1
Enter 1, 2, 3, 4, 5 or 6:6

                printing receipt..............
            ******************************************
                Transaction is now complete.                         
                Transaction number: 484157 
                Account holder: SHAMBHAVI JAISWAL                  
                Account number: 49990934                
                Available balance: Rs.20000                    

                Thanks for choosing us as your bank                  
            ******************************************
                         
Proceed 1 for yes or 0 for No: 0
Do you want to do any transaction?(yes/no):no

        -------------------------------------
        | Thanks for choosing us as your bank |
        | Visit us again!                     |
         -------------------------------------
             
​
